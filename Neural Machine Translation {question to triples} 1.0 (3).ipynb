{
 "cells": [
  {
   "cell_type": "markdown",
   "metadata": {},
   "source": [
    "### IMPORTING LIBERARIES"
   ]
  },
  {
   "cell_type": "code",
   "execution_count": 1,
   "metadata": {},
   "outputs": [],
   "source": [
    "import numpy as np\n",
    "import tensorflow as tf\n",
    "import json\n",
    "import pandas as pd\n",
    "import math\n",
    "import os\n",
    "import time\n",
    "import spacy\n",
    "import random\n",
    "from DATASETS import ques_triples\n",
    "import csv\n",
    "\n",
    "# importing torch libraries\n",
    "import torch\n",
    "import torch.nn.functional as F\n",
    "from torch.nn import TransformerEncoder, TransformerEncoderLayer\n",
    "import torch.nn as nn\n",
    "import torch.optim as optim\n",
    "import torchtext as tt\n",
    "from torchtext.legacy.data import Field, BucketIterator\n",
    "from torchtext.legacy import data\n",
    "from torchtext.data.utils import get_tokenizer\n",
    "from collections import Counter\n",
    "import io\n",
    "from torchtext.vocab import Vocab"
   ]
  },
  {
   "cell_type": "code",
   "execution_count": 2,
   "metadata": {},
   "outputs": [],
   "source": [
    "# Change the file direc.\n",
    "# RUN\n",
    "with open('C:/Users/Praty/OneDrive/Desktop/lcq2_MT_train.json') as file:\n",
    "    question_triples_train = json.load(file)\n",
    "question_to_triple_df = pd.read_json('C:/Users/Praty/OneDrive/Desktop/lcq2_MT_train.json')"
   ]
  },
  {
   "cell_type": "code",
   "execution_count": 3,
   "metadata": {},
   "outputs": [
    {
     "data": {
      "text/html": [
       "<div>\n",
       "<style scoped>\n",
       "    .dataframe tbody tr th:only-of-type {\n",
       "        vertical-align: middle;\n",
       "    }\n",
       "\n",
       "    .dataframe tbody tr th {\n",
       "        vertical-align: top;\n",
       "    }\n",
       "\n",
       "    .dataframe thead th {\n",
       "        text-align: right;\n",
       "    }\n",
       "</style>\n",
       "<table border=\"1\" class=\"dataframe\">\n",
       "  <thead>\n",
       "    <tr style=\"text-align: right;\">\n",
       "      <th></th>\n",
       "      <th>uid</th>\n",
       "      <th>question</th>\n",
       "      <th>sparql_wikidata</th>\n",
       "      <th>template_id</th>\n",
       "      <th>question_pos</th>\n",
       "      <th>ent_masked_ques</th>\n",
       "      <th>question_with_pos</th>\n",
       "      <th>triples_template</th>\n",
       "    </tr>\n",
       "  </thead>\n",
       "  <tbody>\n",
       "    <tr>\n",
       "      <td>0</td>\n",
       "      <td>19719</td>\n",
       "      <td>What periodical literature does Delta Air Line...</td>\n",
       "      <td>select distinct ?obj where { wd:Q188920 wdt:P...</td>\n",
       "      <td>5</td>\n",
       "      <td>WP JJ NN VBZ NNP NNP NNPS NN IN DT NN</td>\n",
       "      <td>what [Entity1] does [Entity2] use as a moutpiece?</td>\n",
       "      <td>What/WP periodical/JJ literature/NN does/VBZ D...</td>\n",
       "      <td>[ delta air lines ] &lt; house publication &gt; obje...</td>\n",
       "    </tr>\n",
       "    <tr>\n",
       "      <td>1</td>\n",
       "      <td>15554</td>\n",
       "      <td>Who is the child of Ranavalona I's husband?</td>\n",
       "      <td>SELECT ?answer WHERE { wd:Q169794 wdt:P26 ?X ....</td>\n",
       "      <td>18</td>\n",
       "      <td>WP VBZ DT NN IN NNP PRP POS NN</td>\n",
       "      <td>who is the child of [Entity1]'s husband?</td>\n",
       "      <td>Who/WP is/VBZ the/DT child/NN of/IN Ranavalona...</td>\n",
       "      <td>[ ranavalona i of madagascar ] &lt; spouse &gt; ?x ....</td>\n",
       "    </tr>\n",
       "    <tr>\n",
       "      <td>2</td>\n",
       "      <td>974</td>\n",
       "      <td>Is it true Jeff_Bridges occupation Lane Chandl...</td>\n",
       "      <td>ASK WHERE { wd:Q174843 wdt:P106 wd:Q1804811 . ...</td>\n",
       "      <td>17</td>\n",
       "      <td>VBZ PRP JJ NNP NN NNP NNP CC RB</td>\n",
       "      <td>is it true [Entity1] occupation [Entity2] and ...</td>\n",
       "      <td>Is/VBZ it/PRP true/JJ Jeff_Bridges/NNP occupat...</td>\n",
       "      <td>[ jeff bridges ] &lt; occupation &gt; [ lane chandle...</td>\n",
       "    </tr>\n",
       "    <tr>\n",
       "      <td>3</td>\n",
       "      <td>15803</td>\n",
       "      <td>What is the pre-requisite of phase matter of G...</td>\n",
       "      <td>SELECT ?answer WHERE { wd:Q675176 wdt:P515 ?X ...</td>\n",
       "      <td>23</td>\n",
       "      <td>WP VBZ DT NN IN NN NN IN NNP</td>\n",
       "      <td>what is the pre-requisite of phase matter of [...</td>\n",
       "      <td>What/WP is/VBZ the/DT pre-requisite/NN of/IN p...</td>\n",
       "      <td>[ galinstan ] &lt; phase of matter &gt; ?x . ?x &lt; fo...</td>\n",
       "    </tr>\n",
       "    <tr>\n",
       "      <td>4</td>\n",
       "      <td>27610</td>\n",
       "      <td>Which is the operating income for Qantas?</td>\n",
       "      <td>select distinct ?answer where { wd:Q32491 wdt:...</td>\n",
       "      <td>22</td>\n",
       "      <td>WDT VBZ DT NN NN IN NNP</td>\n",
       "      <td>which is the operating income for [Entity1]?</td>\n",
       "      <td>Which/WDT is/VBZ the/DT operating/NN income/NN...</td>\n",
       "      <td>[ qantas ] &lt; operating income &gt; answer</td>\n",
       "    </tr>\n",
       "  </tbody>\n",
       "</table>\n",
       "</div>"
      ],
      "text/plain": [
       "     uid                                           question  \\\n",
       "0  19719  What periodical literature does Delta Air Line...   \n",
       "1  15554        Who is the child of Ranavalona I's husband?   \n",
       "2    974  Is it true Jeff_Bridges occupation Lane Chandl...   \n",
       "3  15803  What is the pre-requisite of phase matter of G...   \n",
       "4  27610          Which is the operating income for Qantas?   \n",
       "\n",
       "                                     sparql_wikidata  template_id  \\\n",
       "0   select distinct ?obj where { wd:Q188920 wdt:P...            5   \n",
       "1  SELECT ?answer WHERE { wd:Q169794 wdt:P26 ?X ....           18   \n",
       "2  ASK WHERE { wd:Q174843 wdt:P106 wd:Q1804811 . ...           17   \n",
       "3  SELECT ?answer WHERE { wd:Q675176 wdt:P515 ?X ...           23   \n",
       "4  select distinct ?answer where { wd:Q32491 wdt:...           22   \n",
       "\n",
       "                            question_pos  \\\n",
       "0  WP JJ NN VBZ NNP NNP NNPS NN IN DT NN   \n",
       "1         WP VBZ DT NN IN NNP PRP POS NN   \n",
       "2        VBZ PRP JJ NNP NN NNP NNP CC RB   \n",
       "3           WP VBZ DT NN IN NN NN IN NNP   \n",
       "4                WDT VBZ DT NN NN IN NNP   \n",
       "\n",
       "                                     ent_masked_ques  \\\n",
       "0  what [Entity1] does [Entity2] use as a moutpiece?   \n",
       "1           who is the child of [Entity1]'s husband?   \n",
       "2  is it true [Entity1] occupation [Entity2] and ...   \n",
       "3  what is the pre-requisite of phase matter of [...   \n",
       "4       which is the operating income for [Entity1]?   \n",
       "\n",
       "                                   question_with_pos  \\\n",
       "0  What/WP periodical/JJ literature/NN does/VBZ D...   \n",
       "1  Who/WP is/VBZ the/DT child/NN of/IN Ranavalona...   \n",
       "2  Is/VBZ it/PRP true/JJ Jeff_Bridges/NNP occupat...   \n",
       "3  What/WP is/VBZ the/DT pre-requisite/NN of/IN p...   \n",
       "4  Which/WDT is/VBZ the/DT operating/NN income/NN...   \n",
       "\n",
       "                                    triples_template  \n",
       "0  [ delta air lines ] < house publication > obje...  \n",
       "1  [ ranavalona i of madagascar ] < spouse > ?x ....  \n",
       "2  [ jeff bridges ] < occupation > [ lane chandle...  \n",
       "3  [ galinstan ] < phase of matter > ?x . ?x < fo...  \n",
       "4             [ qantas ] < operating income > answer  "
      ]
     },
     "execution_count": 3,
     "metadata": {},
     "output_type": "execute_result"
    }
   ],
   "source": [
    "# reading directly from file\n",
    "question_triples_train\n",
    "# reading into pandas dataframe\n",
    "question_to_triple_df.head()"
   ]
  },
  {
   "cell_type": "code",
   "execution_count": 6,
   "metadata": {},
   "outputs": [],
   "source": [
    "df_train_question = question_to_triple_df[[\"question\",\"triples_template\"]]"
   ]
  },
  {
   "cell_type": "markdown",
   "metadata": {},
   "source": [
    "### HARD CODE PREPROCESSING \n",
    "##### DO NOT RUN"
   ]
  },
  {
   "cell_type": "code",
   "execution_count": 5,
   "metadata": {},
   "outputs": [
    {
     "name": "stderr",
     "output_type": "stream",
     "text": [
      "C:\\Users\\Praty\\Anaconda3\\lib\\site-packages\\IPython\\core\\interactiveshell.py:3326: SettingWithCopyWarning: \n",
      "A value is trying to be set on a copy of a slice from a DataFrame\n",
      "\n",
      "See the caveats in the documentation: http://pandas.pydata.org/pandas-docs/stable/user_guide/indexing.html#returning-a-view-versus-a-copy\n",
      "  exec(code_obj, self.user_global_ns, self.user_ns)\n"
     ]
    }
   ],
   "source": [
    "# Do NOT RUN\n",
    "# DATA PREPROCESSING FIRST STEP AND READING\n",
    "# adding <sos> and <eos> before and ending of each sentence\n",
    "start_of_sentence = \"<sos> \"\n",
    "end_of_sentence = \" <eos>\"\n",
    "\n",
    "for i in range(len(df_train_question['question'])):\n",
    "    df_train_question['question'][i] = start_of_sentence + df_train_question['question'][i]+ end_of_sentence\n",
    "for i in range(len(df_train_question['triples_template'])):\n",
    "    df_train_question['triples_template'][i] = start_of_sentence + df_train_question['triples_template'][i]+ end_of_sentence\n"
   ]
  },
  {
   "cell_type": "code",
   "execution_count": 6,
   "metadata": {},
   "outputs": [
    {
     "name": "stdout",
     "output_type": "stream",
     "text": [
      "<sos> What periodical literature does Delta Air Lines use as a moutpiece? <eos>\n",
      "<sos> [ delta air lines ] < house publication > object . object < instance of > [ periodical ] <eos>\n"
     ]
    }
   ],
   "source": [
    "# testing \n",
    "# DO NOT RUN\n",
    "print(df_train_question['question'][0])\n",
    "print(df_train_question['triples_template'][0])"
   ]
  },
  {
   "cell_type": "code",
   "execution_count": 7,
   "metadata": {},
   "outputs": [],
   "source": [
    "# REGEX OPERATION\n",
    "# DON NOT RUN\n",
    "import re\n",
    "#print(df_train_question['triples_template'][6])\n",
    "for i in range(len(df_train_question['triples_template'])):\n",
    "    df_train_question['triples_template'][i] = re.sub(r'(\\s([,!\"]))|(?<=\\[|\\()(.*?)(?=\\)|\\])|(?<=\\<|\\()(.*?)(?=\\)|\\>)', lambda x: x.group().strip(), df_train_question['triples_template'][i])"
   ]
  },
  {
   "cell_type": "code",
   "execution_count": 8,
   "metadata": {},
   "outputs": [
    {
     "name": "stdout",
     "output_type": "stream",
     "text": [
      "<sos> [delta air lines] <house publication> object . object <instance of> [periodical] <eos>\n"
     ]
    }
   ],
   "source": [
    "# testing\n",
    "# DO NOT RUN\n",
    "print(df_train_question['triples_template'][0])"
   ]
  },
  {
   "cell_type": "code",
   "execution_count": 9,
   "metadata": {},
   "outputs": [
    {
     "name": "stderr",
     "output_type": "stream",
     "text": [
      "C:\\Users\\Praty\\Anaconda3\\lib\\site-packages\\ipykernel_launcher.py:3: FutureWarning: The signature of `Series.to_csv` was aligned to that of `DataFrame.to_csv`, and argument 'header' will change its default value from False to True: please pass an explicit value to suppress this warning.\n",
      "  This is separate from the ipykernel package so we can avoid doing imports until\n",
      "C:\\Users\\Praty\\Anaconda3\\lib\\site-packages\\ipykernel_launcher.py:5: FutureWarning: The signature of `Series.to_csv` was aligned to that of `DataFrame.to_csv`, and argument 'header' will change its default value from False to True: please pass an explicit value to suppress this warning.\n",
      "  \"\"\"\n"
     ]
    }
   ],
   "source": [
    "# DO NOT RUN\n",
    "# Dividing the questions and triples_template into two files\n",
    "# warning and error extra index forms everytime when load have to delete it manualy from csv files\n",
    "# creating file for questions\n",
    "df_train_question['question'].to_csv(\"C:/Users/Praty/OneDrive/Desktop/ques_triple_sets/ques_trip_data_1.csv\")\n",
    "# creating files for triples\n",
    "df_train_question['triples_template'].to_csv(\"C:/Users/Praty/OneDrive/Desktop/ques_triple_sets/ques_trip_data_2.csv\")"
   ]
  },
  {
   "cell_type": "code",
   "execution_count": 10,
   "metadata": {},
   "outputs": [],
   "source": [
    "# DO NOT RUN\n",
    "# storing the data from csv to txt files for easy parsing\n",
    "# triples csv to txt [ques_trip_data_2 to triples_en]\n",
    "with open('C:/Users/Praty/OneDrive/Desktop/ques_triple_sets/triples_en.txt', \"w\",encoding=\"mbcs\") as my_output_file:\n",
    "    with open('C:/Users/Praty/OneDrive/Desktop/ques_triple_sets/ques_trip_data_2.csv', \"r\",encoding=\"mbcs\") as my_input_file:\n",
    "        [ my_output_file.write(\" \".join(row)+'\\n') for row in csv.reader(my_input_file)]\n",
    "    my_output_file.close()\n",
    "\n",
    "# question csv to txt [ques_trip_data_1 to questions_en]\n",
    "with open('C:/Users/Praty/OneDrive/Desktop/ques_triple_sets/questions_en.txt', \"w\",encoding=\"mbcs\") as my_output_file:\n",
    "    with open('C:/Users/Praty/OneDrive/Desktop/ques_triple_sets/ques_trip_data_1.csv', \"r\",encoding=\"mbcs\") as my_input_file:\n",
    "        [ my_output_file.write(\" \".join(row)+'\\n') for row in csv.reader(my_input_file)]\n",
    "    my_output_file.close()  "
   ]
  },
  {
   "cell_type": "code",
   "execution_count": 11,
   "metadata": {},
   "outputs": [],
   "source": [
    "# DO NOT RUN\n",
    "# GENERATING  train, test, validation sets INDICES\n",
    "def generate_indices(data_len):\n",
    "    indices = [i for i in range(data_len)]\n",
    "    random.shuffle(indices)\n",
    "    \n",
    "    # 80:20:0 splitting the train, validation, test set.\n",
    "    train_idx = int(data_len*0.8)\n",
    "    val_idx = train_idx + int(data_len*0.2)\n",
    "    \n",
    "    return indices[:train_idx], indices[train_idx : val_idx], indices[val_idx:]\n",
    "                                                            \n",
    "train_indices, val_indices, test_indices = generate_indices(len(df_train_question))                                                            "
   ]
  },
  {
   "cell_type": "code",
   "execution_count": 12,
   "metadata": {},
   "outputs": [],
   "source": [
    "# DO NOT RUN\n",
    "# preprocess of QUESTION DATASET\n",
    "file_path = ['C:/Users/Praty/OneDrive/Desktop/ques_triple_sets/questions_en.txt','C:/Users/Praty/OneDrive/Desktop/ques_triple_sets/triples_en.txt']\n",
    "# storing the data into list\n",
    "data = []\n",
    "data_1 = []\n",
    "with open(file_path[0],encoding=\"mbcs\") as fp:\n",
    "    for line in fp:\n",
    "        data.append(line.strip())\n",
    "with open(file_path[1],encoding=\"mbcs\") as fp:\n",
    "    for line in fp:\n",
    "        data_1.append(line.strip())"
   ]
  },
  {
   "cell_type": "code",
   "execution_count": 13,
   "metadata": {},
   "outputs": [
    {
     "name": "stdout",
     "output_type": "stream",
     "text": [
      "<sos> What periodical literature does Delta Air Lines use as a moutpiece? <eos>\n",
      "total question  23895\n",
      "<sos> [delta air lines] <house publication> object . object <instance of> [periodical] <eos>\n",
      "total_triples  23886\n"
     ]
    }
   ],
   "source": [
    "# DO NOT RUN\n",
    "# testing\n",
    "print(data[0])\n",
    "print(\"total question \",len(data))\n",
    "print(data_1[0])\n",
    "print(\"total_triples \",len(data_1))"
   ]
  },
  {
   "cell_type": "markdown",
   "metadata": {},
   "source": [
    "### Processing of Questions"
   ]
  },
  {
   "cell_type": "code",
   "execution_count": null,
   "metadata": {},
   "outputs": [],
   "source": [
    "# first for question_en processing\n",
    "# DO NOT RUN\n",
    "lang = 'en_core_web_sm'\n",
    "lang_model = spacy.load(lang,  disable=['tagger','parser','ner'])\n",
    "\n",
    "punctuation = ['(', ')', ':', '\"', ' ','<','>']\n",
    "def process_sen(lang_model, sentence, punctuation):\n",
    "    sentence = sentence.lower()\n",
    "    sentence = [tok.text for tok in lang_model.tokenizer(sentence) if tok.text not in punctuation]\n",
    "    return sentence\n",
    "\n",
    "processed_sentence = [process_sen(lang_model, sentence, punctuation) for sentence in data]"
   ]
  },
  {
   "cell_type": "code",
   "execution_count": null,
   "metadata": {},
   "outputs": [],
   "source": [
    "# testing\n",
    "# DO NOT RUN\n",
    "processed_sentence[1]"
   ]
  },
  {
   "cell_type": "code",
   "execution_count": 19,
   "metadata": {},
   "outputs": [
    {
     "data": {
      "text/plain": [
       "23895"
      ]
     },
     "execution_count": 19,
     "metadata": {},
     "output_type": "execute_result"
    }
   ],
   "source": [
    "len(processed_sentence)"
   ]
  },
  {
   "cell_type": "code",
   "execution_count": 20,
   "metadata": {},
   "outputs": [],
   "source": [
    "train = [processed_sentence[i] for i in train_indices]"
   ]
  },
  {
   "cell_type": "code",
   "execution_count": 21,
   "metadata": {},
   "outputs": [
    {
     "data": {
      "text/plain": [
       "['sos',\n",
       " 'how',\n",
       " 'many',\n",
       " 'bodies',\n",
       " 'of',\n",
       " 'water',\n",
       " 'are',\n",
       " 'located',\n",
       " 'in',\n",
       " 'or',\n",
       " 'next',\n",
       " 'to',\n",
       " 'the',\n",
       " 'aegean',\n",
       " 'sea',\n",
       " '?',\n",
       " 'eos']"
      ]
     },
     "execution_count": 21,
     "metadata": {},
     "output_type": "execute_result"
    }
   ],
   "source": [
    "# testing\n",
    "train[0]"
   ]
  },
  {
   "cell_type": "code",
   "execution_count": 33,
   "metadata": {},
   "outputs": [],
   "source": [
    "# building vocabulary\n",
    "# DO NOT RUN\n",
    "freq_list = Counter()\n",
    "for sentence in train:\n",
    "    freq_list.update(sentence)\n",
    "#en_vocab = Vocab(freq_list, specials=['<unk>', '<pad>', '<bos>', '<eos>'])\n",
    "freq_list = freq_list.most_common(10000)"
   ]
  },
  {
   "cell_type": "code",
   "execution_count": 91,
   "metadata": {},
   "outputs": [
    {
     "name": "stdout",
     "output_type": "stream",
     "text": [
      "10003\n"
     ]
    }
   ],
   "source": [
    "# testing\n",
    "freq_list\n",
    "print(len(freq_list))"
   ]
  },
  {
   "cell_type": "code",
   "execution_count": 35,
   "metadata": {},
   "outputs": [],
   "source": [
    "# reserving the indexes for the \n",
    "# DO NOT RUN\n",
    "freq_list = {freq[0]:i+1 for i, freq in enumerate(freq_list)}\n",
    "freq_list['[pad]'] = 0\n",
    "#freq_list['[OOV]'] = 1\n",
    "freq_list['[sos]'] = 1\n",
    "freq_list['[eos]'] = 2\n",
    "\n",
    "def map_words(sentence, freq_list):\n",
    "    return [freq_list[word] for word in sentence if word in freq_list]\n",
    "\n",
    "\n",
    "processed_sentences = [map_words(sentence, freq_list) for sentence in processed_sentence]\n",
    "\n",
    "#en_tensor = torch.tensor([en_vocab[token] for token in train], dtype = torch.lang)\n",
    "\n"
   ]
  },
  {
   "cell_type": "code",
   "execution_count": null,
   "metadata": {},
   "outputs": [],
   "source": [
    "# testing\n",
    "processed_sentences[1]"
   ]
  },
  {
   "cell_type": "code",
   "execution_count": 37,
   "metadata": {},
   "outputs": [],
   "source": [
    "train_ques_new = [processed_sentences[i] for i in train_indices]\n",
    "val_ques_new = [processed_sentences[i] for i in val_indices]\n",
    "test_ques_new = [processed_sentences[i] for i in test_indices]"
   ]
  },
  {
   "cell_type": "code",
   "execution_count": null,
   "metadata": {},
   "outputs": [],
   "source": [
    "train_ques_new"
   ]
  },
  {
   "cell_type": "markdown",
   "metadata": {},
   "source": [
    "### Procecessing of triplets"
   ]
  },
  {
   "cell_type": "code",
   "execution_count": 39,
   "metadata": {},
   "outputs": [],
   "source": [
    "# for triples_template\n",
    "# DO NOT RUN\n",
    "lang = 'en_core_web_sm'\n",
    "lang_model = spacy.load(lang,  disable=['tagger','parser','ner'])\n",
    "#punctuation = ['(', ')', ':', '\"', ' ']\n",
    "def process_sen1(sentence):\n",
    "    sentence = sentence.lower()\n",
    "    sentence = [tok for tok in sentence.split(\" \")]\n",
    "    return sentence\n",
    "\n",
    "processed_sen = [process_sen1(sentence) for sentence in data_1]"
   ]
  },
  {
   "cell_type": "code",
   "execution_count": null,
   "metadata": {},
   "outputs": [],
   "source": [
    "processed_sen"
   ]
  },
  {
   "cell_type": "code",
   "execution_count": 41,
   "metadata": {},
   "outputs": [],
   "source": [
    "train_1 = [processed_sen[i] for i in train_indices]"
   ]
  },
  {
   "cell_type": "code",
   "execution_count": 46,
   "metadata": {},
   "outputs": [],
   "source": [
    "# DO NOT RUN\n",
    "freq_list_1 = Counter()\n",
    "for sentence in train_1:\n",
    "    freq_list_1.update(sentence)\n",
    "#en_vocab = Vocab(freq_list, specials=['<unk>', '<pad>', '<bos>', '<eos>'])\n",
    "freq_list_1 = freq_list_1.most_common(10000)"
   ]
  },
  {
   "cell_type": "code",
   "execution_count": 92,
   "metadata": {},
   "outputs": [
    {
     "data": {
      "text/plain": [
       "10003"
      ]
     },
     "execution_count": 92,
     "metadata": {},
     "output_type": "execute_result"
    }
   ],
   "source": [
    "len(freq_list_1)"
   ]
  },
  {
   "cell_type": "code",
   "execution_count": 48,
   "metadata": {},
   "outputs": [],
   "source": [
    "# DO NOT RUN\n",
    "freq_list_1 = {freq[0]:i for i, freq in enumerate(freq_list_1)}\n",
    "freq_list_1['[PAD]'] = 0\n",
    "#freq_list_1['[OOV]'] = 1\n",
    "freq_list_1['[sos]'] = 1\n",
    "freq_list_1['[eos]'] = 2\n",
    "\n",
    "def map_words(sentence, freq_list_1):\n",
    "    return [freq_list_1[word] for word in sentence if word in freq_list_1]\n",
    "\n",
    "\n",
    "processed_sentences_triples = [map_words(sentence, freq_list_1) for sentence in processed_sen]\n",
    "\n"
   ]
  },
  {
   "cell_type": "code",
   "execution_count": null,
   "metadata": {},
   "outputs": [],
   "source": [
    "processed_sentences_triples"
   ]
  },
  {
   "cell_type": "code",
   "execution_count": 50,
   "metadata": {},
   "outputs": [],
   "source": [
    "# DO NOT RUN\n",
    "train_triple_new = [processed_sentences_triples[i] for i in train_indices]\n",
    "val_triple_new = [processed_sentences_triples[i] for i in val_indices]\n",
    "test_triple_new = [processed_sentences_triples[i] for i in test_indices]"
   ]
  },
  {
   "cell_type": "code",
   "execution_count": null,
   "metadata": {},
   "outputs": [],
   "source": [
    "train_triple_new"
   ]
  },
  {
   "cell_type": "code",
   "execution_count": 74,
   "metadata": {},
   "outputs": [
    {
     "name": "stdout",
     "output_type": "stream",
     "text": [
      "38\n",
      "37\n",
      "18\n",
      "43\n",
      "42\n",
      "11\n"
     ]
    }
   ],
   "source": [
    "# DO NOT RUN\n",
    "# padding the sentences to make it equal\n",
    "from torch.nn.utils.rnn import pad_sequence\n",
    "\n",
    "\n",
    "# FOR TRAIN_QUES_NEW\n",
    "x_ques = len(train_ques_new[0])\n",
    "for i in range(len(train_ques_new)):\n",
    "    if(x_ques >= len(train_ques_new[i])):\n",
    "        continue\n",
    "    else:\n",
    "        x_ques = len(train_ques_new[i])\n",
    "print(x_ques)\n",
    "        \n",
    "for i in range(len(train_ques_new)):\n",
    "    diff = x_ques - len(train_ques_new[i])\n",
    "    for j in range(diff):\n",
    "        train_ques_new[i].append(0)\n",
    "\n",
    "# FOR VAL_QUES_NEW\n",
    "y_ques = len(val_ques_new[0])\n",
    "for i in range(len(val_ques_new)):\n",
    "    if(y_ques >= len(val_ques_new[i])):\n",
    "        continue\n",
    "    else:\n",
    "        y_ques = len(val_ques_new[i])\n",
    "print(y_ques)\n",
    "        \n",
    "for i in range(len(val_ques_new)):\n",
    "    diff = y_ques - len(val_ques_new[i])\n",
    "    for j in range(diff):\n",
    "        val_ques_new[i].append(0)\n",
    "        \n",
    "# FOR TEST_QUES_NEW\n",
    "\n",
    "# FOR TRAIN_QUES_NEW\n",
    "z_ques = len(test_ques_new[0])\n",
    "for i in range(len(test_ques_new)):\n",
    "    if(z_ques >= len(test_ques_new[i])):\n",
    "        continue\n",
    "    else:\n",
    "        z_ques = len(test_ques_new[i])\n",
    "print(z_ques)\n",
    "        \n",
    "for i in range(len(test_ques_new)):\n",
    "    diff = z_ques - len(test_ques_new[i])\n",
    "    for j in range(diff):\n",
    "        test_ques_new[i].append(0)\n",
    "\n",
    "# For TRAIN_tRIPLE_NEW\n",
    "x1_ques = len(train_triple_new[0])\n",
    "for i in range(len(train_triple_new)):\n",
    "    if(x1_ques >= len(train_triple_new[i])):\n",
    "        continue\n",
    "    else:\n",
    "        x1_ques = len(train_triple_new[i])\n",
    "print(x1_ques)\n",
    "        \n",
    "for i in range(len(train_triple_new)):\n",
    "    diff = x1_ques - len(train_triple_new[i])\n",
    "    for j in range(diff):\n",
    "        train_triple_new[i].append(0)\n",
    "\n",
    "# for val_triple_new\n",
    "y1_ques = len(val_triple_new[0])\n",
    "for i in range(len(val_triple_new)):\n",
    "    if(y1_ques >= len(val_triple_new[i])):\n",
    "        continue\n",
    "    else:\n",
    "        y1_ques = len(val_triple_new[i])\n",
    "print(y1_ques)\n",
    "        \n",
    "for i in range(len(val_triple_new)):\n",
    "    diff = y1_ques - len(val_triple_new[i])\n",
    "    for j in range(diff):\n",
    "        val_triple_new[i].append(0)\n",
    "    \n",
    "# test triple ques    \n",
    "z1_ques = len(test_triple_new[0])\n",
    "for i in range(len(test_triple_new)):\n",
    "    if(z1_ques >= len(test_triple_new[i])):\n",
    "        continue\n",
    "    else:\n",
    "        z1_ques = len(test_triple_new[i])\n",
    "print(z1_ques)\n",
    "        \n",
    "for i in range(len(test_triple_new)):\n",
    "    diff = z1_ques - len(test_triple_new[i])\n",
    "    for j in range(diff):\n",
    "        test_triple_new[i].append(0)"
   ]
  },
  {
   "cell_type": "code",
   "execution_count": 76,
   "metadata": {},
   "outputs": [
    {
     "data": {
      "text/plain": [
       "[1,\n",
       " 8,\n",
       " 10,\n",
       " 9,\n",
       " 401,\n",
       " 6,\n",
       " 0,\n",
       " 8,\n",
       " 18,\n",
       " 19,\n",
       " 0,\n",
       " 40,\n",
       " 0,\n",
       " 20,\n",
       " 21,\n",
       " 13,\n",
       " 22,\n",
       " 11,\n",
       " 17,\n",
       " 23,\n",
       " 2,\n",
       " 0,\n",
       " 0,\n",
       " 0,\n",
       " 0,\n",
       " 0,\n",
       " 0,\n",
       " 0,\n",
       " 0,\n",
       " 0,\n",
       " 0,\n",
       " 0,\n",
       " 0,\n",
       " 0,\n",
       " 0,\n",
       " 0,\n",
       " 0,\n",
       " 0,\n",
       " 0,\n",
       " 0,\n",
       " 0,\n",
       " 0]"
      ]
     },
     "execution_count": 76,
     "metadata": {},
     "output_type": "execute_result"
    }
   ],
   "source": [
    "(val_triple_new[0])"
   ]
  },
  {
   "cell_type": "code",
   "execution_count": 77,
   "metadata": {},
   "outputs": [],
   "source": [
    "# appending the data together\n",
    "# DO NOT RUN\n",
    "train_data = []\n",
    "val_data  = []\n",
    "test_data = []\n",
    "for i in range(len(train_ques_new)):\n",
    "    train_data.append((train_ques_new[i], train_triple_new[i]))\n",
    "for i in range(len(val_ques_new)):\n",
    "    val_data.append((val_ques_new[i] , val_triple_new[i]))\n",
    "for i in range(len(test_ques_new)):\n",
    "    test_data.append((test_ques_new[i], test_triple_new[i]))\n"
   ]
  },
  {
   "cell_type": "code",
   "execution_count": null,
   "metadata": {},
   "outputs": [],
   "source": [
    "# TESTING\n",
    "train_data"
   ]
  },
  {
   "cell_type": "code",
   "execution_count": 83,
   "metadata": {},
   "outputs": [],
   "source": [
    "# GENERATING BATCHEs\n",
    "# DO NOT RUN\n",
    "from torch.utils.data import DataLoader\n",
    "device = torch.device('cuda' if torch.cuda.is_available() else 'cpu')\n",
    "BATCH_SIZE = 128\n",
    "train_itr = DataLoader(train_data, batch_size = BATCH_SIZE, shuffle= True)\n",
    "valid_itr = DataLoader(val_data, batch_size = BATCH_SIZE, shuffle= True)\n",
    "test_itr = DataLoader(test_data, batch_size = BATCH_SIZE, shuffle= True)"
   ]
  },
  {
   "cell_type": "code",
   "execution_count": 88,
   "metadata": {},
   "outputs": [
    {
     "data": {
      "text/plain": [
       "1"
      ]
     },
     "execution_count": 88,
     "metadata": {},
     "output_type": "execute_result"
    }
   ],
   "source": [
    "# DO NOT RUN\n",
    "len(train_itr) #150\n",
    "len(valid_itr) #38\n",
    "len(test_itr)  #1"
   ]
  },
  {
   "cell_type": "markdown",
   "metadata": {},
   "source": [
    "# START FROM HERE\n",
    "### PART 1. PREPROCESSING THE DATA"
   ]
  },
  {
   "cell_type": "code",
   "execution_count": 513,
   "metadata": {},
   "outputs": [],
   "source": [
    "from torchtext.legacy.data import Field, TabularDataset, BucketIterator\n",
    "\n",
    "\n",
    "lang = 'en_core_web_sm'\n",
    "lang_model = spacy.load(lang,  disable=['tagger','parser','ner'])\n",
    "\n",
    "def process_sen(text):\n",
    "    return [tok.text for tok in lang_model.tokenizer(text)]\n",
    "\n",
    "def process_sentence(text):\n",
    "    return [tok for tok in text.split(\" \")]\n",
    "\n",
    "SRC = Field( \n",
    "            tokenize = process_sen,\n",
    "            init_token ='<sos>', \n",
    "            eos_token ='<eos>',\n",
    "            lower = True,\n",
    "           batch_first = True)\n",
    "\n",
    "TRG = Field(\n",
    "           tokenize = process_sentence,\n",
    "           init_token ='<sos>',\n",
    "           eos_token = '<eos>',\n",
    "           lower = True,\n",
    "           batch_first = True)\n",
    "fields = {'SRC': ('src', SRC), 'TRG': ('trg',TRG)}\n",
    "\n"
   ]
  },
  {
   "cell_type": "code",
   "execution_count": 514,
   "metadata": {},
   "outputs": [],
   "source": [
    "# dividing the train, val, test data.\n",
    "# change path before running.\n",
    "train_data_1, val_data_1, test_data_1 = TabularDataset.splits(path ='C:/Users/Praty/OneDrive/Desktop/ques_triple_sets',\n",
    "                                                       train='train_ques.csv',\n",
    "                                                       validation = 'val_ques.csv',\n",
    "                                                       test = 'test_final.csv',\n",
    "                                                       format = 'csv',\n",
    "                                                       fields = fields,\n",
    "                                                       skip_header = False)"
   ]
  },
  {
   "cell_type": "code",
   "execution_count": null,
   "metadata": {},
   "outputs": [],
   "source": [
    "print(len(test_data_1))\n",
    "print(len(train_data_1))\n",
    "print(len(val_data_1))"
   ]
  },
  {
   "cell_type": "code",
   "execution_count": 516,
   "metadata": {},
   "outputs": [],
   "source": [
    "# Building the vocab\n",
    "SRC.build_vocab(train_data_1,\n",
    "               max_size = 10000,\n",
    "               min_freq = 2)\n",
    "TRG.build_vocab(train_data_1,\n",
    "               max_size = 10000,\n",
    "               min_freq = 2)"
   ]
  },
  {
   "cell_type": "code",
   "execution_count": 517,
   "metadata": {},
   "outputs": [],
   "source": [
    "# Using BucketIterator for distributing the data into train, test, val iterations\n",
    "train_iter, val_iter, test_iter = BucketIterator.splits((train_data_1,\n",
    "                                                        val_data_1,\n",
    "                                                        test_data_1),\n",
    "                                                       batch_size = 128,\n",
    "                                                        sort = False,\n",
    "                                                       device=device)"
   ]
  },
  {
   "cell_type": "markdown",
   "metadata": {},
   "source": [
    "### PART 2. MODEL IMPLEMENTATION \n",
    "#### ENCODER LAYER"
   ]
  },
  {
   "cell_type": "code",
   "execution_count": 481,
   "metadata": {},
   "outputs": [],
   "source": [
    "class Encoder(nn.Module):\n",
    "    def __init__(self,\n",
    "                input_dim,\n",
    "                hid_dim,\n",
    "                n_layers,\n",
    "                n_heads,\n",
    "                pf_dim,\n",
    "                dropout,\n",
    "                device,\n",
    "                max_length = 100):\n",
    "        super().__init__()\n",
    "        \n",
    "        self.device = device\n",
    "        \n",
    "        self.tok_embedding = nn.Embedding(input_dim, hid_dim)\n",
    "        self.pos_embedding = nn.Embedding(max_length, hid_dim)\n",
    "        \n",
    "        self.layers = nn.ModuleList([EncoderLayer(hid_dim,\n",
    "                                                 n_heads,\n",
    "                                                 pf_dim,\n",
    "                                                 dropout,\n",
    "                                                 device)\n",
    "                                    for _ in range(n_layers)])\n",
    "        self.dropout = nn.Dropout(dropout)\n",
    "        self.scale = torch.sqrt(torch.FloatTensor([hid_dim])).to(device)\n",
    "    \n",
    "    def forward(self, src, src_mask):\n",
    "        \n",
    "        batch_size = src.shape[0]\n",
    "        src_len = src.shape[1]\n",
    "        \n",
    "        pos = torch.arange(0, src_len).unsqueeze(0).repeat(batch_size, 1).to(self.device)\n",
    "        \n",
    "        src = self.dropout((self.tok_embedding(src)* self.scale) + self.pos_embedding(pos))\n",
    "        \n",
    "        for layer in self.layers:\n",
    "            src = layer(src, src_mask)\n",
    "        return src"
   ]
  },
  {
   "cell_type": "code",
   "execution_count": 482,
   "metadata": {},
   "outputs": [],
   "source": [
    "class EncoderLayer(nn.Module):\n",
    "    def __init__(self,\n",
    "                hid_dim,\n",
    "                n_heads,\n",
    "                pf_dim,\n",
    "                dropout,\n",
    "                device):\n",
    "        super().__init__()\n",
    "        \n",
    "        self.self_attn_layer_norm = nn.LayerNorm(hid_dim)\n",
    "        self.ff_layer_norm = nn.LayerNorm(hid_dim)\n",
    "        self.self_attention = MultiHeadAttentionLayer(hid_dim, n_heads, dropout, device)\n",
    "        self.postionwise_feedforward = PositionwiseFeedforwardLayer(hid_dim,pf_dim,dropout)\n",
    "        \n",
    "        self.dropout = nn.Dropout(dropout)\n",
    "    \n",
    "    def forward(self, src, src_mask):\n",
    "        \n",
    "        _src, _ = self.self_attention(src, src, src, src_mask) \n",
    "        \n",
    "        src = self.self_attn_layer_norm(src + self.dropout(_src))\n",
    "        \n",
    "        src = self.ff_layer_norm(src + self.dropout(_src))\n",
    "        \n",
    "        return src"
   ]
  },
  {
   "cell_type": "markdown",
   "metadata": {},
   "source": [
    "#### ATTENTION LAYER"
   ]
  },
  {
   "cell_type": "code",
   "execution_count": 483,
   "metadata": {},
   "outputs": [],
   "source": [
    "class MultiHeadAttentionLayer(nn.Module):\n",
    "    def __init__(self, hid_dim, n_heads, dropout, device):\n",
    "        super().__init__()\n",
    "        \n",
    "        assert hid_dim % n_heads == 0\n",
    "        \n",
    "        self.hid_dim = hid_dim\n",
    "        self.n_heads = n_heads\n",
    "        self.head_dim = hid_dim // n_heads\n",
    "        \n",
    "        self.fc_q = nn.Linear(hid_dim, hid_dim)\n",
    "        self.fc_k = nn.Linear(hid_dim, hid_dim)\n",
    "        self.fc_v = nn.Linear(hid_dim, hid_dim)\n",
    "        \n",
    "        self.fc_o = nn.Linear(hid_dim, hid_dim)\n",
    "        \n",
    "        self.dropout = nn.Dropout(dropout)\n",
    "        \n",
    "        self.scale = torch.sqrt(torch.FloatTensor([self.head_dim])).to(device)\n",
    "        \n",
    "    def forward(self, query, key, value, mask=None):\n",
    "        \n",
    "        batch_size = query.shape[0]\n",
    "        \n",
    "        Q = self.fc_q(query)\n",
    "        K = self.fc_k(key)\n",
    "        V = self.fc_v(value)\n",
    "        \n",
    "        Q = Q.view(batch_size, -1, self.n_heads, self.head_dim).permute(0,2,1,3)\n",
    "        K = K.view(batch_size, -1, self.n_heads, self.head_dim).permute(0,2,1,3)\n",
    "        V = V.view(batch_size, -1, self.n_heads, self.head_dim).permute(0,2,1,3)\n",
    "        \n",
    "        \n",
    "        energy =torch.matmul(Q, K.permute(0,1,3,2))/self.scale\n",
    "        \n",
    "        if mask is not None:\n",
    "            energy = energy.masked_fill(mask == 0, -1e10)\n",
    "            \n",
    "        attention = torch.softmax(energy, dim = -1)\n",
    "        \n",
    "        x = torch.matmul(self.dropout(attention),V)\n",
    "        \n",
    "        x = x.permute(0,2,1,3).contiguous()\n",
    "        \n",
    "        x = x.view(batch_size, -1, self.hid_dim)\n",
    "        \n",
    "        x = self.fc_o(x)\n",
    "        \n",
    "        return x, attention"
   ]
  },
  {
   "cell_type": "markdown",
   "metadata": {},
   "source": [
    "#### POSITION ENCODING"
   ]
  },
  {
   "cell_type": "code",
   "execution_count": 484,
   "metadata": {},
   "outputs": [],
   "source": [
    "class PositionwiseFeedforwardLayer(nn.Module):\n",
    "    def __init__(self, hid_dim, pf_dim, dropout):\n",
    "        super().__init__()\n",
    "        \n",
    "        self.fc_1 = nn.Linear(hid_dim, pf_dim)\n",
    "        self.fc_2 = nn.Linear(pf_dim, hid_dim)\n",
    "        \n",
    "        self.dropout = nn.Dropout(dropout)\n",
    "    def forward(self, x):\n",
    "        \n",
    "        x = self.dropout(torch.relu(self.fc_1(x)))\n",
    "        \n",
    "        x = self.fc_2(x)\n",
    "        \n",
    "        return x"
   ]
  },
  {
   "cell_type": "markdown",
   "metadata": {},
   "source": [
    "#### DECODER LAYER"
   ]
  },
  {
   "cell_type": "code",
   "execution_count": 485,
   "metadata": {},
   "outputs": [],
   "source": [
    "class Decoder(nn.Module):\n",
    "    def __init__(self,\n",
    "                output_dim,\n",
    "                hid_dim,\n",
    "                n_layers,\n",
    "                n_heads,\n",
    "                pf_dim,\n",
    "                dropout,\n",
    "                device,\n",
    "                max_length = 100):\n",
    "        super().__init__()\n",
    "        \n",
    "        self.device = device\n",
    "        \n",
    "        self.tok_embedding = nn.Embedding(output_dim, hid_dim)\n",
    "        self.pos_embedding = nn.Embedding(max_length, hid_dim)\n",
    "        \n",
    "        self.layers = nn.ModuleList([DecoderLayer(hid_dim,\n",
    "                                                n_heads,\n",
    "                                                pf_dim,\n",
    "                                                dropout,\n",
    "                                                device)\n",
    "                                   for _ in range(n_layers)])\n",
    "        self.fc_out = nn.Linear(hid_dim, output_dim)\n",
    "        self.dropout = nn.Dropout(dropout)\n",
    "        \n",
    "        self.scale = torch.sqrt(torch.FloatTensor([hid_dim])).to(device)\n",
    "        \n",
    "    def forward(self, trg, enc_src, trg_mask, src_mask):\n",
    "        \n",
    "        batch_size = trg.shape[0]\n",
    "        trg_len = trg.shape[1]\n",
    "        \n",
    "        pos = torch.arange(0, trg_len).unsqueeze(0).repeat(batch_size, 1).to(self.device)\n",
    "        \n",
    "        trg = self.dropout((self.tok_embedding(trg) * self.scale) + self.pos_embedding(pos))\n",
    "        \n",
    "        \n",
    "        for layer in self.layers:\n",
    "            trg, attention = layer(trg, enc_src, trg_mask, src_mask)\n",
    "        \n",
    "        output = self.fc_out(trg)\n",
    "        \n",
    "        return output, attention"
   ]
  },
  {
   "cell_type": "code",
   "execution_count": 486,
   "metadata": {},
   "outputs": [],
   "source": [
    "class DecoderLayer(nn.Module):\n",
    "    def __init__(self,\n",
    "                hid_dim,\n",
    "                n_heads,\n",
    "                pf_dim,\n",
    "                dropout,\n",
    "                device):\n",
    "        super().__init__()\n",
    "        \n",
    "        self.self_attn_layer_norm = nn.LayerNorm(hid_dim)\n",
    "        self.enc_attn_layer_norm = nn.LayerNorm(hid_dim)\n",
    "        self.ff_layer_norm = nn.LayerNorm(hid_dim)\n",
    "        self.self_attention = MultiHeadAttentionLayer(hid_dim, n_heads, dropout, device)\n",
    "        self.encoder_attention = MultiHeadAttentionLayer(hid_dim, n_heads, dropout, device)\n",
    "        self.positionwise_feedforward = PositionwiseFeedforwardLayer(hid_dim, pf_dim, dropout)\n",
    "        \n",
    "        self.dropout = nn.Dropout(dropout)\n",
    "    def forward(self, trg, enc_src, trg_mask, src_mask):\n",
    "        \n",
    "        \n",
    "        #trg = [batch size, trg len, hid dim]\n",
    "        #enc_src = [batch size, src len, hid dim]\n",
    "        #trg_mask = [batch size, 1, trg len, trg len]\n",
    "        #src_mask = [batch size, 1, 1, src len]\n",
    "        \n",
    "        #self attention\n",
    "        _trg, _ = self.self_attention(trg, trg, trg, trg_mask)\n",
    "        \n",
    "        #dropout, residual connection and layer norm\n",
    "        trg = self.self_attn_layer_norm(trg + self.dropout(_trg))\n",
    "            \n",
    "        #trg = [batch size, trg len, hid dim]\n",
    "            \n",
    "        #encoder attention\n",
    "        _trg, attention = self.encoder_attention(trg, enc_src, enc_src, src_mask)\n",
    "        \n",
    "        #dropout, residual connection and layer norm\n",
    "        trg = self.enc_attn_layer_norm(trg + self.dropout(_trg))\n",
    "                    \n",
    "        #trg = [batch size, trg len, hid dim]\n",
    "        \n",
    "        #positionwise feedforward\n",
    "        _trg = self.positionwise_feedforward(trg)\n",
    "        \n",
    "        #dropout, residual and layer norm\n",
    "        trg = self.ff_layer_norm(trg + self.dropout(_trg))\n",
    "        \n",
    "        #trg = [batch size, trg len, hid dim]\n",
    "        #attention = [batch size, n heads, trg len, src len]\n",
    "        \n",
    "        return trg, attention"
   ]
  },
  {
   "cell_type": "markdown",
   "metadata": {},
   "source": [
    "#### SEQUENCE TO SEQUENCE "
   ]
  },
  {
   "cell_type": "code",
   "execution_count": 487,
   "metadata": {},
   "outputs": [],
   "source": [
    "class Seq2Seq(nn.Module):\n",
    "    def __init__(self, \n",
    "                 encoder, \n",
    "                 decoder, \n",
    "                 src_pad_idx, \n",
    "                 trg_pad_idx, \n",
    "                 device):\n",
    "        super().__init__()\n",
    "        \n",
    "        self.encoder = encoder\n",
    "        self.decoder = decoder\n",
    "        self.src_pad_idx = src_pad_idx\n",
    "        self.trg_pad_idx = trg_pad_idx\n",
    "        self.device = device\n",
    "        \n",
    "    def make_src_mask(self, src):\n",
    "        \n",
    "        #src = [batch size, src len]\n",
    "        \n",
    "        src_mask = (src != self.src_pad_idx).unsqueeze(1).unsqueeze(2)\n",
    "\n",
    "        #src_mask = [batch size, 1, 1, src len]\n",
    "\n",
    "        return src_mask\n",
    "    \n",
    "    def make_trg_mask(self, trg):\n",
    "        \n",
    "        #trg = [batch size, trg len]\n",
    "        \n",
    "        trg_pad_mask = (trg != self.trg_pad_idx).unsqueeze(1).unsqueeze(2)\n",
    "        \n",
    "        #trg_pad_mask = [batch size, 1, 1, trg len]\n",
    "        \n",
    "        trg_len = trg.shape[1]\n",
    "        \n",
    "        trg_sub_mask = torch.tril(torch.ones((trg_len, trg_len), device = self.device)).bool()\n",
    "        \n",
    "        #trg_sub_mask = [trg len, trg len]\n",
    "            \n",
    "        trg_mask = trg_pad_mask & trg_sub_mask\n",
    "        \n",
    "        #trg_mask = [batch size, 1, trg len, trg len]\n",
    "        \n",
    "        return trg_mask\n",
    "\n",
    "    def forward(self, src, trg):\n",
    "        \n",
    "        #src = [batch size, src len]\n",
    "        #trg = [batch size, trg len]\n",
    "                \n",
    "        src_mask = self.make_src_mask(src)\n",
    "        trg_mask = self.make_trg_mask(trg)\n",
    "        \n",
    "        #src_mask = [batch size, 1, 1, src len]\n",
    "        #trg_mask = [batch size, 1, trg len, trg len]\n",
    "        \n",
    "        enc_src = self.encoder(src, src_mask)\n",
    "        \n",
    "        #enc_src = [batch size, src len, hid dim]\n",
    "                \n",
    "        output, attention = self.decoder(trg, enc_src, trg_mask, src_mask)\n",
    "        \n",
    "        #output = [batch size, trg len, output dim]\n",
    "        #attention = [batch size, n heads, trg len, src len]\n",
    "        \n",
    "        return output, attention"
   ]
  },
  {
   "cell_type": "markdown",
   "metadata": {},
   "source": [
    "#### INTIALIZING ALL THE DIMESIONS"
   ]
  },
  {
   "cell_type": "code",
   "execution_count": 488,
   "metadata": {},
   "outputs": [],
   "source": [
    "INPUT_DIM = len(SRC.vocab)\n",
    "OUTPUT_DIM = len(TRG.vocab)\n",
    "HID_DIM = 256\n",
    "ENC_LAYERS = 3\n",
    "DEC_LAYERS = 3\n",
    "ENC_HEADS = 8\n",
    "DEC_HEADS = 8\n",
    "ENC_PF_DIM = 512\n",
    "DEC_PF_DIM = 512\n",
    "ENC_DROPOUT = 0.1\n",
    "DEC_DROPOUT = 0.1\n",
    "\n",
    "enc = Encoder(INPUT_DIM, \n",
    "              HID_DIM, \n",
    "              ENC_LAYERS, \n",
    "              ENC_HEADS, \n",
    "              ENC_PF_DIM, \n",
    "              ENC_DROPOUT, \n",
    "              device)\n",
    "\n",
    "dec = Decoder(OUTPUT_DIM, \n",
    "              HID_DIM, \n",
    "              DEC_LAYERS, \n",
    "              DEC_HEADS, \n",
    "              DEC_PF_DIM, \n",
    "              DEC_DROPOUT, \n",
    "              device)"
   ]
  },
  {
   "cell_type": "code",
   "execution_count": 489,
   "metadata": {},
   "outputs": [],
   "source": [
    "PAD_IDX_QUES = SRC.vocab.stoi[SRC.pad_token]\n",
    "PAD_IDX_TRIP = TRG.vocab.stoi[TRG.pad_token]\n",
    "model = Seq2Seq(enc, dec,PAD_IDX_QUES, PAD_IDX_TRIP ,device).to(device)"
   ]
  },
  {
   "cell_type": "code",
   "execution_count": 490,
   "metadata": {},
   "outputs": [
    {
     "name": "stdout",
     "output_type": "stream",
     "text": [
      "The model has 10,913,646 trainable parameters\n"
     ]
    }
   ],
   "source": [
    "def count_parameters(model):\n",
    "    return sum(p.numel() for p in model.parameters() if p.requires_grad)\n",
    "\n",
    "print(f'The model has {count_parameters(model):,} trainable parameters')"
   ]
  },
  {
   "cell_type": "markdown",
   "metadata": {},
   "source": [
    "#### INTIALIZING RANDOM WEIGHTS"
   ]
  },
  {
   "cell_type": "code",
   "execution_count": 491,
   "metadata": {},
   "outputs": [],
   "source": [
    "def initialize_weights(m):\n",
    "    if hasattr(m, 'weight') and m.weight.dim() > 1:\n",
    "        nn.init.xavier_uniform_(m.weight.data)"
   ]
  },
  {
   "cell_type": "code",
   "execution_count": 492,
   "metadata": {},
   "outputs": [],
   "source": [
    "model.apply(initialize_weights);"
   ]
  },
  {
   "cell_type": "code",
   "execution_count": 493,
   "metadata": {},
   "outputs": [],
   "source": [
    "LEARNING_RATE = 0.0005\n",
    "\n",
    "optimizer = torch.optim.Adam(model.parameters(), lr = LEARNING_RATE)"
   ]
  },
  {
   "cell_type": "code",
   "execution_count": 494,
   "metadata": {},
   "outputs": [],
   "source": [
    "# think about it\n",
    "criterion = nn.CrossEntropyLoss(ignore_index= PAD_IDX_TRIP)"
   ]
  },
  {
   "cell_type": "markdown",
   "metadata": {},
   "source": [
    "#### TRAINING THE MODEL"
   ]
  },
  {
   "cell_type": "code",
   "execution_count": 495,
   "metadata": {},
   "outputs": [],
   "source": [
    "def train(model, iterator, optimizer, criterion, clip):\n",
    "    \n",
    "    model.train()\n",
    "    \n",
    "    epoch_loss = 0\n",
    "    \n",
    "    for i, batch in enumerate(iterator):\n",
    "        \n",
    "        src = batch.src\n",
    "        trg = batch.trg\n",
    "        #print(src)\n",
    "        \n",
    "        #print(trg)\n",
    "        optimizer.zero_grad()\n",
    "        \n",
    "        output, _ = model(src, trg[:,:-1])\n",
    "                \n",
    "        #output = [batch size, trg len - 1, output dim]\n",
    "        #trg = [batch size, trg len]\n",
    "            \n",
    "        output_dim = output.shape[-1]\n",
    "            \n",
    "        output = output.contiguous().view(-1, output_dim)\n",
    "        trg = trg[:,1:].contiguous().view(-1)\n",
    "                \n",
    "        #output = [batch size * trg len - 1, output dim]\n",
    "        #trg = [batch size * trg len - 1]\n",
    "            \n",
    "        loss = criterion(output, trg)\n",
    "        \n",
    "        loss.backward()\n",
    "        \n",
    "        torch.nn.utils.clip_grad_norm_(model.parameters(), clip)\n",
    "        \n",
    "        optimizer.step()\n",
    "        \n",
    "        epoch_loss += loss.item()\n",
    "        \n",
    "    return epoch_loss / len(iterator)"
   ]
  },
  {
   "cell_type": "markdown",
   "metadata": {},
   "source": [
    "#### EVALUATION OF THE MODEL"
   ]
  },
  {
   "cell_type": "code",
   "execution_count": 496,
   "metadata": {},
   "outputs": [],
   "source": [
    "def evaluate(model, iterator, criterion):\n",
    "    \n",
    "    model.eval()\n",
    "    \n",
    "    epoch_loss = 0\n",
    "    \n",
    "    with torch.no_grad():\n",
    "    \n",
    "        for i, batch in enumerate(iterator):\n",
    "\n",
    "            src = batch.src\n",
    "            trg = batch.trg\n",
    "\n",
    "            output, _ = model(src, trg[:,:-1])\n",
    "            \n",
    "            #output = [batch size, trg len - 1, output dim]\n",
    "            #trg = [batch size, trg len]\n",
    "            \n",
    "            output_dim = output.shape[-1]\n",
    "            \n",
    "            output = output.contiguous().view(-1, output_dim)\n",
    "            trg = trg[:,1:].contiguous().view(-1)\n",
    "            \n",
    "            #output = [batch size * trg len - 1, output dim]\n",
    "            #trg = [batch size * trg len - 1]\n",
    "            \n",
    "            loss = criterion(output, trg)\n",
    "\n",
    "            epoch_loss += loss.item()\n",
    "        \n",
    "    return epoch_loss / len(iterator)"
   ]
  },
  {
   "cell_type": "code",
   "execution_count": 497,
   "metadata": {},
   "outputs": [],
   "source": [
    "def epoch_time(start_time, end_time):\n",
    "    elapsed_time = end_time - start_time\n",
    "    elapsed_mins = int(elapsed_time / 60)\n",
    "    elapsed_secs = int(elapsed_time - (elapsed_mins * 60))\n",
    "    return elapsed_mins, elapsed_secs"
   ]
  },
  {
   "cell_type": "code",
   "execution_count": 498,
   "metadata": {},
   "outputs": [
    {
     "name": "stdout",
     "output_type": "stream",
     "text": [
      "Epoch: 01 | Time: 6m 37s\n",
      "\tTrain Loss: 3.309 | Train PPL:  27.346\n",
      "\t Val. Loss: 1.580 |  Val. PPL:   4.856\n",
      "Epoch: 02 | Time: 6m 50s\n",
      "\tTrain Loss: 1.503 | Train PPL:   4.497\n",
      "\t Val. Loss: 1.242 |  Val. PPL:   3.463\n",
      "Epoch: 03 | Time: 6m 59s\n",
      "\tTrain Loss: 1.186 | Train PPL:   3.275\n",
      "\t Val. Loss: 1.070 |  Val. PPL:   2.915\n",
      "Epoch: 04 | Time: 7m 4s\n",
      "\tTrain Loss: 0.961 | Train PPL:   2.614\n",
      "\t Val. Loss: 0.957 |  Val. PPL:   2.604\n",
      "Epoch: 05 | Time: 7m 6s\n",
      "\tTrain Loss: 0.779 | Train PPL:   2.180\n",
      "\t Val. Loss: 0.875 |  Val. PPL:   2.399\n",
      "Epoch: 06 | Time: 7m 11s\n",
      "\tTrain Loss: 0.629 | Train PPL:   1.876\n",
      "\t Val. Loss: 0.804 |  Val. PPL:   2.235\n",
      "Epoch: 07 | Time: 7m 11s\n",
      "\tTrain Loss: 0.502 | Train PPL:   1.652\n",
      "\t Val. Loss: 0.758 |  Val. PPL:   2.135\n",
      "Epoch: 08 | Time: 7m 12s\n",
      "\tTrain Loss: 0.398 | Train PPL:   1.488\n",
      "\t Val. Loss: 0.727 |  Val. PPL:   2.070\n",
      "Epoch: 09 | Time: 7m 15s\n",
      "\tTrain Loss: 0.310 | Train PPL:   1.364\n",
      "\t Val. Loss: 0.708 |  Val. PPL:   2.030\n",
      "Epoch: 10 | Time: 7m 37s\n",
      "\tTrain Loss: 0.246 | Train PPL:   1.279\n",
      "\t Val. Loss: 0.694 |  Val. PPL:   2.002\n"
     ]
    }
   ],
   "source": [
    "N_EPOCHS = 10\n",
    "CLIP = 1\n",
    "\n",
    "best_valid_loss = float('inf')\n",
    "\n",
    "for epoch in range(N_EPOCHS):\n",
    "    \n",
    "    start_time = time.time()\n",
    "    \n",
    "    train_loss = train(model, train_iter, optimizer, criterion, CLIP)\n",
    "    valid_loss = evaluate(model, val_iter, criterion)\n",
    "    \n",
    "    end_time = time.time()\n",
    "    \n",
    "    epoch_mins, epoch_secs = epoch_time(start_time, end_time)\n",
    "    \n",
    "    if valid_loss < best_valid_loss:\n",
    "        best_valid_loss = valid_loss\n",
    "        torch.save(model.state_dict(), 'tut6-model.pt')\n",
    "    \n",
    "    print(f'Epoch: {epoch+1:02} | Time: {epoch_mins}m {epoch_secs}s')\n",
    "    print(f'\\tTrain Loss: {train_loss:.3f} | Train PPL: {math.exp(train_loss):7.3f}')\n",
    "    print(f'\\t Val. Loss: {valid_loss:.3f} |  Val. PPL: {math.exp(valid_loss):7.3f}')"
   ]
  },
  {
   "cell_type": "code",
   "execution_count": 499,
   "metadata": {},
   "outputs": [
    {
     "name": "stdout",
     "output_type": "stream",
     "text": [
      "| Test Loss: 0.680 | Test PPL:   1.975 |\n"
     ]
    }
   ],
   "source": [
    "# Calculating the test loss and test perplexity.\n",
    "model.load_state_dict(torch.load('tut6-model.pt'))\n",
    "\n",
    "test_loss = evaluate(model, test_iter, criterion)\n",
    "\n",
    "print(f'| Test Loss: {test_loss:.3f} | Test PPL: {math.exp(test_loss):7.3f} |')"
   ]
  },
  {
   "cell_type": "code",
   "execution_count": 559,
   "metadata": {},
   "outputs": [],
   "source": [
    "def translate_sentence(sentence, src_field, trg_field, model, device, max_len = 100):\n",
    "    \n",
    "    model.eval()\n",
    "        \n",
    "    if isinstance(sentence, str):\n",
    "        #nlp = spacy.load('en_core_web_sm')\n",
    "        \n",
    "        tokens = [token.text.lower() for token in sentence.split(\" \")]\n",
    "    else:\n",
    "        tokens = [token.lower() for token in sentence]\n",
    "\n",
    "    tokens = [src_field.init_token] + tokens + [src_field.eos_token]\n",
    "        \n",
    "    src_indexes = [src_field.vocab.stoi[token] for token in tokens]\n",
    "\n",
    "    src_tensor = torch.LongTensor(src_indexes).unsqueeze(0).to(device)\n",
    "    \n",
    "    src_mask = model.make_src_mask(src_tensor)\n",
    "    \n",
    "    with torch.no_grad():\n",
    "        enc_src = model.encoder(src_tensor, src_mask)\n",
    "\n",
    "    trg_indexes = [trg_field.vocab.stoi[trg_field.init_token]]\n",
    "\n",
    "    for i in range(max_len):\n",
    "\n",
    "        trg_tensor = torch.LongTensor(trg_indexes).unsqueeze(0).to(device)\n",
    "\n",
    "        trg_mask = model.make_trg_mask(trg_tensor)\n",
    "        \n",
    "        with torch.no_grad():\n",
    "            output, attention = model.decoder(trg_tensor, enc_src, trg_mask, src_mask)\n",
    "        \n",
    "        pred_token = output.argmax(2)[:,-1].item()\n",
    "        \n",
    "        trg_indexes.append(pred_token)\n",
    "\n",
    "        if pred_token == trg_field.vocab.stoi[trg_field.eos_token]:\n",
    "            break\n",
    "    \n",
    "    trg_tokens = [trg_field.vocab.itos[i] for i in trg_indexes]\n",
    "    \n",
    "    return trg_tokens[1:], attention"
   ]
  },
  {
   "cell_type": "code",
   "execution_count": 549,
   "metadata": {},
   "outputs": [],
   "source": [
    "\n",
    "def display_attention(sentence, translation, attention, n_heads = 8, n_rows = 4, n_cols = 2):\n",
    "    \n",
    "    assert n_rows * n_cols == n_heads\n",
    "    \n",
    "    fig = plt.figure(figsize=(15,25))\n",
    "    \n",
    "    for i in range(n_heads):\n",
    "        \n",
    "        ax = fig.add_subplot(n_rows, n_cols, i+1)\n",
    "        \n",
    "        _attention = attention.squeeze(0)[i].cpu().detach().numpy()\n",
    "\n",
    "        cax = ax.matshow(_attention, cmap='bone')\n",
    "\n",
    "        ax.tick_params(labelsize=12)\n",
    "        ax.set_xticklabels(['']+['<sos>']+[t.lower() for t in sentence]+['<eos>'], \n",
    "                           rotation=45)\n",
    "        ax.set_yticklabels(['']+translation)\n",
    "\n",
    "        ax.xaxis.set_major_locator(ticker.MultipleLocator(1))\n",
    "        ax.yaxis.set_major_locator(ticker.MultipleLocator(1))\n",
    "\n",
    "    plt.show()\n",
    "    plt.close()"
   ]
  },
  {
   "cell_type": "code",
   "execution_count": 550,
   "metadata": {},
   "outputs": [
    {
     "name": "stdout",
     "output_type": "stream",
     "text": [
      "src = ['what', 'was', 'faroe', 'island', \"'s\", 'population', 'in', '2004', '?']\n",
      "trg = ['[', 'faroe', 'islands', ']', '<', 'population', '>', '?', 's', '.', '?', 's', '<', 'population', '>', 'object', '.', '?', 's', '<', 'point', 'in', 'time', '>', '?', 'x', \"filter(contains(year(?x),'2004\", \"'\", ')', ')']\n"
     ]
    }
   ],
   "source": [
    "\n",
    "example_idx = 9\n",
    "\n",
    "src = vars(train_data_1.examples[example_idx])['src']\n",
    "trg = vars(train_data_1.examples[example_idx])['trg']\n",
    "\n",
    "print(f'src = {src}')\n",
    "print(f'trg = {trg}')\n"
   ]
  },
  {
   "cell_type": "code",
   "execution_count": 551,
   "metadata": {},
   "outputs": [
    {
     "name": "stdout",
     "output_type": "stream",
     "text": [
      "predicted trg = ['[', '<unk>', 'island', ']', '<', 'population', '>', '?', 's', '.', '?', 's', '<', 'population', '>', 'object', '.', '?', 's', '<', 'point', 'in', 'time', '>', '?', 'x', \"filter(contains(year(?x),'2004\", \"'\", ')', ')', '<eos>']\n"
     ]
    }
   ],
   "source": [
    "\n",
    "translation, attention = translate_sentence(src, SRC, TRG, model, device)\n",
    "\n",
    "print(f'predicted trg = {translation}')"
   ]
  },
  {
   "cell_type": "code",
   "execution_count": 552,
   "metadata": {},
   "outputs": [
    {
     "data": {
      "image/png": "[encoded data removed]",
      "text/plain": [
       "<Figure size 1080x1800 with 8 Axes>"
      ]
     },
     "metadata": {
      "needs_background": "light"
     },
     "output_type": "display_data"
    }
   ],
   "source": [
    "import matplotlib.pyplot as plt\n",
    "import matplotlib.ticker as ticker\n",
    "display_attention(src, translation, attention)"
   ]
  },
  {
   "cell_type": "code",
   "execution_count": 553,
   "metadata": {},
   "outputs": [
    {
     "name": "stdout",
     "output_type": "stream",
     "text": [
      "src = ['in', 'the', '68th', 'academy', 'awards', ',', 'what', 'nomination', 'did', 'mira', 'sorvino', 'receive', '?']\n",
      "trg = ['[', 'mira', 'sorvino', ']', '<', 'nominated', 'for', '>', '?', 's', '.', '?', 's', '<', 'nominated', 'for', '>', 'object', '.', '?', 's', '<', 'statement', 'is', 'subject', 'of', '>', '[', '68th', 'academy', 'awards', ']']\n"
     ]
    }
   ],
   "source": [
    "example_idx = 6\n",
    "\n",
    "src = vars(val_data_1.examples[example_idx])['src']\n",
    "trg = vars(val_data_1.examples[example_idx])['trg']\n",
    "\n",
    "print(f'src = {src}')\n",
    "print(f'trg = {trg}')"
   ]
  },
  {
   "cell_type": "code",
   "execution_count": 554,
   "metadata": {},
   "outputs": [
    {
     "name": "stdout",
     "output_type": "stream",
     "text": [
      "predicted trg = ['[', '<unk>', '<unk>', ']', '<', 'nominated', 'for', '>', '?', 's', '.', '?', 's', '<', 'nominated', 'for', '>', '[', 'academy', 'award', 'for', 'best', 'supporting', 'actress', ']', '.', '?', 's', '<', 'statement', 'is', 'subject', 'of', '>', 'value', '<eos>']\n"
     ]
    }
   ],
   "source": [
    "translation, attention = translate_sentence(src, SRC, TRG, model, device)\n",
    "\n",
    "print(f'predicted trg = {translation}')"
   ]
  },
  {
   "cell_type": "code",
   "execution_count": 555,
   "metadata": {},
   "outputs": [
    {
     "data": {
      "image/png": "[encoded data removed]",
      "text/plain": [
       "<Figure size 1080x1800 with 8 Axes>"
      ]
     },
     "metadata": {
      "needs_background": "light"
     },
     "output_type": "display_data"
    }
   ],
   "source": [
    "display_attention(src, translation, attention)"
   ]
  },
  {
   "cell_type": "markdown",
   "metadata": {},
   "source": [
    "#### Calculating the Blue Score"
   ]
  },
  {
   "cell_type": "code",
   "execution_count": 580,
   "metadata": {},
   "outputs": [],
   "source": [
    "from torchtext.data.metrics import bleu_score\n",
    "\n",
    "def calculate_bleu(data, src_field, trg_field, model, device, max_len = 101):\n",
    "    \n",
    "    trgs = []\n",
    "    pred_trgs = []\n",
    "    \n",
    "    for datum in data:\n",
    "        \n",
    "        src = vars(datum)['src']\n",
    "        trg = vars(datum)['trg']\n",
    "        \n",
    "        pred_trg, _ = translate_sentence(src, src_field, trg_field, model, device, max_len)\n",
    "        \n",
    "        #cut off <eos> token\n",
    "        pred_trg = pred_trg[:-1]\n",
    "        \n",
    "        pred_trgs.append(pred_trg)\n",
    "        trgs.append([trg])\n",
    "        \n",
    "    return bleu_score(pred_trgs, trgs)"
   ]
  },
  {
   "cell_type": "code",
   "execution_count": null,
   "metadata": {},
   "outputs": [],
   "source": [
    "bleu_score = calculate_bleu(test_data_1, SRC, TRG, model, device)\n",
    "\n",
    "print(f'BLEU score = {bleu_score*100:.2f}')"
   ]
  }
 ],
 "metadata": {
  "kernelspec": {
   "display_name": "Python 3",
   "language": "python",
   "name": "python3"
  },
  "language_info": {
   "codemirror_mode": {
    "name": "ipython",
    "version": 3
   },
   "file_extension": ".py",
   "mimetype": "text/x-python",
   "name": "python",
   "nbconvert_exporter": "python",
   "pygments_lexer": "ipython3",
   "version": "3.7.4"
  }
 },
 "nbformat": 4,
 "nbformat_minor": 2
}
